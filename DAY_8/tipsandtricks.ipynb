{
 "cells": [
  {
   "cell_type": "markdown",
   "metadata": {},
   "source": [
    "## About Lesson\n",
    "Is lecture main ham seekhen gay k pandas library ko use karne ki tips and tricks kon konsi hyn.\n",
    "Ye lecture long hyn tu ap se request hy is ko poora dekh k sath sath pactice b karen."
   ]
  },
  {
   "cell_type": "markdown",
   "metadata": {},
   "source": [
    "### 01- how to find the version of pandas"
   ]
  },
  {
   "cell_type": "code",
   "execution_count": 2,
   "metadata": {},
   "outputs": [
    {
     "data": {
      "text/plain": [
       "'2.2.3'"
      ]
     },
     "execution_count": 2,
     "metadata": {},
     "output_type": "execute_result"
    }
   ],
   "source": [
    "import pandas as pd\n",
    "pd.__version__"
   ]
  },
  {
   "cell_type": "markdown",
   "metadata": {},
   "source": [
    "another way"
   ]
  },
  {
   "cell_type": "code",
   "execution_count": 3,
   "metadata": {},
   "outputs": [
    {
     "name": "stdout",
     "output_type": "stream",
     "text": [
      "\n",
      "INSTALLED VERSIONS\n",
      "------------------\n",
      "commit                : 0691c5cf90477d3503834d983f69350f250a6ff7\n",
      "python                : 3.13.0\n",
      "python-bits           : 64\n",
      "OS                    : Windows\n",
      "OS-release            : 11\n",
      "Version               : 10.0.26100\n",
      "machine               : AMD64\n",
      "processor             : Intel64 Family 6 Model 142 Stepping 10, GenuineIntel\n",
      "byteorder             : little\n",
      "LC_ALL                : None\n",
      "LANG                  : None\n",
      "LOCALE                : English_Pakistan.1252\n",
      "\n",
      "pandas                : 2.2.3\n",
      "numpy                 : 2.1.3\n",
      "pytz                  : 2024.2\n",
      "dateutil              : 2.9.0.post0\n",
      "pip                   : 24.3.1\n",
      "Cython                : None\n",
      "sphinx                : None\n",
      "IPython               : 8.28.0\n",
      "adbc-driver-postgresql: None\n",
      "adbc-driver-sqlite    : None\n",
      "bs4                   : None\n",
      "blosc                 : None\n",
      "bottleneck            : None\n",
      "dataframe-api-compat  : None\n",
      "fastparquet           : None\n",
      "fsspec                : None\n",
      "html5lib              : None\n",
      "hypothesis            : None\n",
      "gcsfs                 : None\n",
      "jinja2                : 3.1.4\n",
      "lxml.etree            : None\n",
      "matplotlib            : 3.9.2\n",
      "numba                 : None\n",
      "numexpr               : None\n",
      "odfpy                 : None\n",
      "openpyxl              : 3.1.5\n",
      "pandas_gbq            : None\n",
      "psycopg2              : None\n",
      "pymysql               : None\n",
      "pyarrow               : None\n",
      "pyreadstat            : None\n",
      "pytest                : None\n",
      "python-calamine       : None\n",
      "pyxlsb                : None\n",
      "s3fs                  : None\n",
      "scipy                 : None\n",
      "sqlalchemy            : None\n",
      "tables                : None\n",
      "tabulate              : 0.9.0\n",
      "xarray                : None\n",
      "xlrd                  : None\n",
      "xlsxwriter            : None\n",
      "zstandard             : None\n",
      "tzdata                : 2024.2\n",
      "qtpy                  : None\n",
      "pyqt5                 : None\n"
     ]
    }
   ],
   "source": [
    "pd.show_versions()"
   ]
  },
  {
   "cell_type": "markdown",
   "metadata": {},
   "source": [
    "### 02 make data frames"
   ]
  },
  {
   "cell_type": "code",
   "execution_count": 4,
   "metadata": {},
   "outputs": [
    {
     "data": {
      "text/html": [
       "<div>\n",
       "<style scoped>\n",
       "    .dataframe tbody tr th:only-of-type {\n",
       "        vertical-align: middle;\n",
       "    }\n",
       "\n",
       "    .dataframe tbody tr th {\n",
       "        vertical-align: top;\n",
       "    }\n",
       "\n",
       "    .dataframe thead th {\n",
       "        text-align: right;\n",
       "    }\n",
       "</style>\n",
       "<table border=\"1\" class=\"dataframe\">\n",
       "  <thead>\n",
       "    <tr style=\"text-align: right;\">\n",
       "      <th></th>\n",
       "      <th>colum1</th>\n",
       "      <th>colum2</th>\n",
       "      <th>colum3</th>\n",
       "    </tr>\n",
       "  </thead>\n",
       "  <tbody>\n",
       "    <tr>\n",
       "      <th>0</th>\n",
       "      <td>1</td>\n",
       "      <td>4</td>\n",
       "      <td>7</td>\n",
       "    </tr>\n",
       "    <tr>\n",
       "      <th>1</th>\n",
       "      <td>2</td>\n",
       "      <td>5</td>\n",
       "      <td>8</td>\n",
       "    </tr>\n",
       "    <tr>\n",
       "      <th>2</th>\n",
       "      <td>3</td>\n",
       "      <td>6</td>\n",
       "      <td>9</td>\n",
       "    </tr>\n",
       "  </tbody>\n",
       "</table>\n",
       "</div>"
      ],
      "text/plain": [
       "   colum1  colum2  colum3\n",
       "0       1       4       7\n",
       "1       2       5       8\n",
       "2       3       6       9"
      ]
     },
     "execution_count": 4,
     "metadata": {},
     "output_type": "execute_result"
    }
   ],
   "source": [
    "pd.DataFrame(({'colum1': [1,2,3] , 'colum2': [4,5,6], 'colum3': [7,8,9]}))"
   ]
  },
  {
   "cell_type": "markdown",
   "metadata": {},
   "source": [
    "### numpy array use to create data frme"
   ]
  },
  {
   "cell_type": "code",
   "execution_count": 5,
   "metadata": {},
   "outputs": [
    {
     "data": {
      "text/plain": [
       "array([[1, 2, 3],\n",
       "       [4, 5, 6],\n",
       "       [7, 8, 9]])"
      ]
     },
     "execution_count": 5,
     "metadata": {},
     "output_type": "execute_result"
    }
   ],
   "source": [
    "import numpy as np\n",
    "arr = np.array([[1,2,3],[4,5,6],[7,8,9]])\n",
    "arr"
   ]
  },
  {
   "cell_type": "code",
   "execution_count": 6,
   "metadata": {},
   "outputs": [
    {
     "data": {
      "text/html": [
       "<div>\n",
       "<style scoped>\n",
       "    .dataframe tbody tr th:only-of-type {\n",
       "        vertical-align: middle;\n",
       "    }\n",
       "\n",
       "    .dataframe tbody tr th {\n",
       "        vertical-align: top;\n",
       "    }\n",
       "\n",
       "    .dataframe thead th {\n",
       "        text-align: right;\n",
       "    }\n",
       "</style>\n",
       "<table border=\"1\" class=\"dataframe\">\n",
       "  <thead>\n",
       "    <tr style=\"text-align: right;\">\n",
       "      <th></th>\n",
       "      <th>0</th>\n",
       "      <th>1</th>\n",
       "      <th>2</th>\n",
       "    </tr>\n",
       "  </thead>\n",
       "  <tbody>\n",
       "    <tr>\n",
       "      <th>0</th>\n",
       "      <td>1</td>\n",
       "      <td>2</td>\n",
       "      <td>3</td>\n",
       "    </tr>\n",
       "    <tr>\n",
       "      <th>1</th>\n",
       "      <td>4</td>\n",
       "      <td>5</td>\n",
       "      <td>6</td>\n",
       "    </tr>\n",
       "    <tr>\n",
       "      <th>2</th>\n",
       "      <td>7</td>\n",
       "      <td>8</td>\n",
       "      <td>9</td>\n",
       "    </tr>\n",
       "  </tbody>\n",
       "</table>\n",
       "</div>"
      ],
      "text/plain": [
       "   0  1  2\n",
       "0  1  2  3\n",
       "1  4  5  6\n",
       "2  7  8  9"
      ]
     },
     "execution_count": 6,
     "metadata": {},
     "output_type": "execute_result"
    }
   ],
   "source": [
    "pd.DataFrame(arr)"
   ]
  },
  {
   "cell_type": "code",
   "execution_count": 7,
   "metadata": {},
   "outputs": [
    {
     "data": {
      "text/html": [
       "<div>\n",
       "<style scoped>\n",
       "    .dataframe tbody tr th:only-of-type {\n",
       "        vertical-align: middle;\n",
       "    }\n",
       "\n",
       "    .dataframe tbody tr th {\n",
       "        vertical-align: top;\n",
       "    }\n",
       "\n",
       "    .dataframe thead th {\n",
       "        text-align: right;\n",
       "    }\n",
       "</style>\n",
       "<table border=\"1\" class=\"dataframe\">\n",
       "  <thead>\n",
       "    <tr style=\"text-align: right;\">\n",
       "      <th></th>\n",
       "      <th>0</th>\n",
       "      <th>1</th>\n",
       "      <th>2</th>\n",
       "      <th>3</th>\n",
       "      <th>4</th>\n",
       "      <th>5</th>\n",
       "    </tr>\n",
       "  </thead>\n",
       "  <tbody>\n",
       "    <tr>\n",
       "      <th>0</th>\n",
       "      <td>0.538273</td>\n",
       "      <td>0.437651</td>\n",
       "      <td>0.721270</td>\n",
       "      <td>0.806541</td>\n",
       "      <td>0.162437</td>\n",
       "      <td>0.498901</td>\n",
       "    </tr>\n",
       "    <tr>\n",
       "      <th>1</th>\n",
       "      <td>0.882479</td>\n",
       "      <td>0.062929</td>\n",
       "      <td>0.977470</td>\n",
       "      <td>0.492205</td>\n",
       "      <td>0.315153</td>\n",
       "      <td>0.619082</td>\n",
       "    </tr>\n",
       "    <tr>\n",
       "      <th>2</th>\n",
       "      <td>0.908222</td>\n",
       "      <td>0.126169</td>\n",
       "      <td>0.380372</td>\n",
       "      <td>0.759626</td>\n",
       "      <td>0.806021</td>\n",
       "      <td>0.608429</td>\n",
       "    </tr>\n",
       "    <tr>\n",
       "      <th>3</th>\n",
       "      <td>0.543608</td>\n",
       "      <td>0.612303</td>\n",
       "      <td>0.449524</td>\n",
       "      <td>0.413623</td>\n",
       "      <td>0.937058</td>\n",
       "      <td>0.131080</td>\n",
       "    </tr>\n",
       "  </tbody>\n",
       "</table>\n",
       "</div>"
      ],
      "text/plain": [
       "          0         1         2         3         4         5\n",
       "0  0.538273  0.437651  0.721270  0.806541  0.162437  0.498901\n",
       "1  0.882479  0.062929  0.977470  0.492205  0.315153  0.619082\n",
       "2  0.908222  0.126169  0.380372  0.759626  0.806021  0.608429\n",
       "3  0.543608  0.612303  0.449524  0.413623  0.937058  0.131080"
      ]
     },
     "execution_count": 7,
     "metadata": {},
     "output_type": "execute_result"
    }
   ],
   "source": [
    "pd.DataFrame(np.random.rand(4,6))"
   ]
  },
  {
   "cell_type": "code",
   "execution_count": 8,
   "metadata": {},
   "outputs": [],
   "source": [
    "df = pd.DataFrame(np.random.rand(4,6), columns= ['A', 'B', 'C', 'D', 'E', 'F'])"
   ]
  },
  {
   "cell_type": "markdown",
   "metadata": {},
   "source": [
    "### HOW TO RENAME COLUMNS?"
   ]
  },
  {
   "cell_type": "code",
   "execution_count": 9,
   "metadata": {},
   "outputs": [],
   "source": [
    "df.rename(columns ={'A':'col_A','B': 'col_B', 'C': 'col_C', 'D':'col_D','E':'col_E','F':'col_F'}, inplace=True)"
   ]
  },
  {
   "cell_type": "code",
   "execution_count": 10,
   "metadata": {},
   "outputs": [
    {
     "data": {
      "text/html": [
       "<div>\n",
       "<style scoped>\n",
       "    .dataframe tbody tr th:only-of-type {\n",
       "        vertical-align: middle;\n",
       "    }\n",
       "\n",
       "    .dataframe tbody tr th {\n",
       "        vertical-align: top;\n",
       "    }\n",
       "\n",
       "    .dataframe thead th {\n",
       "        text-align: right;\n",
       "    }\n",
       "</style>\n",
       "<table border=\"1\" class=\"dataframe\">\n",
       "  <thead>\n",
       "    <tr style=\"text-align: right;\">\n",
       "      <th></th>\n",
       "      <th>col_A</th>\n",
       "      <th>col_B</th>\n",
       "      <th>col_C</th>\n",
       "      <th>col_D</th>\n",
       "      <th>col_E</th>\n",
       "      <th>col_F</th>\n",
       "    </tr>\n",
       "  </thead>\n",
       "  <tbody>\n",
       "    <tr>\n",
       "      <th>0</th>\n",
       "      <td>0.126849</td>\n",
       "      <td>0.581680</td>\n",
       "      <td>0.160808</td>\n",
       "      <td>0.154257</td>\n",
       "      <td>0.004385</td>\n",
       "      <td>0.546506</td>\n",
       "    </tr>\n",
       "    <tr>\n",
       "      <th>1</th>\n",
       "      <td>0.550405</td>\n",
       "      <td>0.036386</td>\n",
       "      <td>0.522227</td>\n",
       "      <td>0.441801</td>\n",
       "      <td>0.192469</td>\n",
       "      <td>0.967991</td>\n",
       "    </tr>\n",
       "    <tr>\n",
       "      <th>2</th>\n",
       "      <td>0.367623</td>\n",
       "      <td>0.018386</td>\n",
       "      <td>0.139292</td>\n",
       "      <td>0.579459</td>\n",
       "      <td>0.809425</td>\n",
       "      <td>0.445583</td>\n",
       "    </tr>\n",
       "    <tr>\n",
       "      <th>3</th>\n",
       "      <td>0.288913</td>\n",
       "      <td>0.150805</td>\n",
       "      <td>0.452265</td>\n",
       "      <td>0.479877</td>\n",
       "      <td>0.830270</td>\n",
       "      <td>0.574162</td>\n",
       "    </tr>\n",
       "  </tbody>\n",
       "</table>\n",
       "</div>"
      ],
      "text/plain": [
       "      col_A     col_B     col_C     col_D     col_E     col_F\n",
       "0  0.126849  0.581680  0.160808  0.154257  0.004385  0.546506\n",
       "1  0.550405  0.036386  0.522227  0.441801  0.192469  0.967991\n",
       "2  0.367623  0.018386  0.139292  0.579459  0.809425  0.445583\n",
       "3  0.288913  0.150805  0.452265  0.479877  0.830270  0.574162"
      ]
     },
     "execution_count": 10,
     "metadata": {},
     "output_type": "execute_result"
    }
   ],
   "source": [
    "df"
   ]
  },
  {
   "cell_type": "markdown",
   "metadata": {},
   "source": [
    "### another way to change column name"
   ]
  },
  {
   "cell_type": "code",
   "execution_count": 11,
   "metadata": {},
   "outputs": [
    {
     "data": {
      "text/html": [
       "<div>\n",
       "<style scoped>\n",
       "    .dataframe tbody tr th:only-of-type {\n",
       "        vertical-align: middle;\n",
       "    }\n",
       "\n",
       "    .dataframe tbody tr th {\n",
       "        vertical-align: top;\n",
       "    }\n",
       "\n",
       "    .dataframe thead th {\n",
       "        text-align: right;\n",
       "    }\n",
       "</style>\n",
       "<table border=\"1\" class=\"dataframe\">\n",
       "  <thead>\n",
       "    <tr style=\"text-align: right;\">\n",
       "      <th></th>\n",
       "      <th>col_aa</th>\n",
       "      <th>col_bb</th>\n",
       "      <th>col_cc</th>\n",
       "      <th>col_dd</th>\n",
       "      <th>col_ee</th>\n",
       "      <th>col_ff</th>\n",
       "    </tr>\n",
       "  </thead>\n",
       "  <tbody>\n",
       "    <tr>\n",
       "      <th>0</th>\n",
       "      <td>0.126849</td>\n",
       "      <td>0.581680</td>\n",
       "      <td>0.160808</td>\n",
       "      <td>0.154257</td>\n",
       "      <td>0.004385</td>\n",
       "      <td>0.546506</td>\n",
       "    </tr>\n",
       "    <tr>\n",
       "      <th>1</th>\n",
       "      <td>0.550405</td>\n",
       "      <td>0.036386</td>\n",
       "      <td>0.522227</td>\n",
       "      <td>0.441801</td>\n",
       "      <td>0.192469</td>\n",
       "      <td>0.967991</td>\n",
       "    </tr>\n",
       "    <tr>\n",
       "      <th>2</th>\n",
       "      <td>0.367623</td>\n",
       "      <td>0.018386</td>\n",
       "      <td>0.139292</td>\n",
       "      <td>0.579459</td>\n",
       "      <td>0.809425</td>\n",
       "      <td>0.445583</td>\n",
       "    </tr>\n",
       "    <tr>\n",
       "      <th>3</th>\n",
       "      <td>0.288913</td>\n",
       "      <td>0.150805</td>\n",
       "      <td>0.452265</td>\n",
       "      <td>0.479877</td>\n",
       "      <td>0.830270</td>\n",
       "      <td>0.574162</td>\n",
       "    </tr>\n",
       "  </tbody>\n",
       "</table>\n",
       "</div>"
      ],
      "text/plain": [
       "     col_aa    col_bb    col_cc    col_dd    col_ee    col_ff\n",
       "0  0.126849  0.581680  0.160808  0.154257  0.004385  0.546506\n",
       "1  0.550405  0.036386  0.522227  0.441801  0.192469  0.967991\n",
       "2  0.367623  0.018386  0.139292  0.579459  0.809425  0.445583\n",
       "3  0.288913  0.150805  0.452265  0.479877  0.830270  0.574162"
      ]
     },
     "execution_count": 11,
     "metadata": {},
     "output_type": "execute_result"
    }
   ],
   "source": [
    "df.columns=['col_aa','col_bb','col_cc','col_dd','col_ee','col_ff']\n",
    "df"
   ]
  },
  {
   "cell_type": "markdown",
   "metadata": {},
   "source": [
    "### to replace character in a string"
   ]
  },
  {
   "cell_type": "markdown",
   "metadata": {},
   "source": []
  },
  {
   "cell_type": "code",
   "execution_count": 13,
   "metadata": {},
   "outputs": [
    {
     "data": {
      "text/html": [
       "<div>\n",
       "<style scoped>\n",
       "    .dataframe tbody tr th:only-of-type {\n",
       "        vertical-align: middle;\n",
       "    }\n",
       "\n",
       "    .dataframe tbody tr th {\n",
       "        vertical-align: top;\n",
       "    }\n",
       "\n",
       "    .dataframe thead th {\n",
       "        text-align: right;\n",
       "    }\n",
       "</style>\n",
       "<table border=\"1\" class=\"dataframe\">\n",
       "  <thead>\n",
       "    <tr style=\"text-align: right;\">\n",
       "      <th></th>\n",
       "      <th>col-aa</th>\n",
       "      <th>col-bb</th>\n",
       "      <th>col-cc</th>\n",
       "      <th>col-dd</th>\n",
       "      <th>col-ee</th>\n",
       "      <th>col-ff</th>\n",
       "    </tr>\n",
       "  </thead>\n",
       "  <tbody>\n",
       "    <tr>\n",
       "      <th>0</th>\n",
       "      <td>0.126849</td>\n",
       "      <td>0.581680</td>\n",
       "      <td>0.160808</td>\n",
       "      <td>0.154257</td>\n",
       "      <td>0.004385</td>\n",
       "      <td>0.546506</td>\n",
       "    </tr>\n",
       "    <tr>\n",
       "      <th>1</th>\n",
       "      <td>0.550405</td>\n",
       "      <td>0.036386</td>\n",
       "      <td>0.522227</td>\n",
       "      <td>0.441801</td>\n",
       "      <td>0.192469</td>\n",
       "      <td>0.967991</td>\n",
       "    </tr>\n",
       "    <tr>\n",
       "      <th>2</th>\n",
       "      <td>0.367623</td>\n",
       "      <td>0.018386</td>\n",
       "      <td>0.139292</td>\n",
       "      <td>0.579459</td>\n",
       "      <td>0.809425</td>\n",
       "      <td>0.445583</td>\n",
       "    </tr>\n",
       "    <tr>\n",
       "      <th>3</th>\n",
       "      <td>0.288913</td>\n",
       "      <td>0.150805</td>\n",
       "      <td>0.452265</td>\n",
       "      <td>0.479877</td>\n",
       "      <td>0.830270</td>\n",
       "      <td>0.574162</td>\n",
       "    </tr>\n",
       "  </tbody>\n",
       "</table>\n",
       "</div>"
      ],
      "text/plain": [
       "     col-aa    col-bb    col-cc    col-dd    col-ee    col-ff\n",
       "0  0.126849  0.581680  0.160808  0.154257  0.004385  0.546506\n",
       "1  0.550405  0.036386  0.522227  0.441801  0.192469  0.967991\n",
       "2  0.367623  0.018386  0.139292  0.579459  0.809425  0.445583\n",
       "3  0.288913  0.150805  0.452265  0.479877  0.830270  0.574162"
      ]
     },
     "execution_count": 13,
     "metadata": {},
     "output_type": "execute_result"
    }
   ],
   "source": [
    "df.columns=df.columns.str.replace('_','-')\n",
    "df"
   ]
  },
  {
   "cell_type": "markdown",
   "metadata": {},
   "source": [
    "adding pre-fix"
   ]
  },
  {
   "cell_type": "code",
   "execution_count": 14,
   "metadata": {},
   "outputs": [
    {
     "data": {
      "text/html": [
       "<div>\n",
       "<style scoped>\n",
       "    .dataframe tbody tr th:only-of-type {\n",
       "        vertical-align: middle;\n",
       "    }\n",
       "\n",
       "    .dataframe tbody tr th {\n",
       "        vertical-align: top;\n",
       "    }\n",
       "\n",
       "    .dataframe thead th {\n",
       "        text-align: right;\n",
       "    }\n",
       "</style>\n",
       "<table border=\"1\" class=\"dataframe\">\n",
       "  <thead>\n",
       "    <tr style=\"text-align: right;\">\n",
       "      <th></th>\n",
       "      <th>col_col-aa</th>\n",
       "      <th>col_col-bb</th>\n",
       "      <th>col_col-cc</th>\n",
       "      <th>col_col-dd</th>\n",
       "      <th>col_col-ee</th>\n",
       "      <th>col_col-ff</th>\n",
       "    </tr>\n",
       "  </thead>\n",
       "  <tbody>\n",
       "    <tr>\n",
       "      <th>0</th>\n",
       "      <td>0.126849</td>\n",
       "      <td>0.581680</td>\n",
       "      <td>0.160808</td>\n",
       "      <td>0.154257</td>\n",
       "      <td>0.004385</td>\n",
       "      <td>0.546506</td>\n",
       "    </tr>\n",
       "    <tr>\n",
       "      <th>1</th>\n",
       "      <td>0.550405</td>\n",
       "      <td>0.036386</td>\n",
       "      <td>0.522227</td>\n",
       "      <td>0.441801</td>\n",
       "      <td>0.192469</td>\n",
       "      <td>0.967991</td>\n",
       "    </tr>\n",
       "    <tr>\n",
       "      <th>2</th>\n",
       "      <td>0.367623</td>\n",
       "      <td>0.018386</td>\n",
       "      <td>0.139292</td>\n",
       "      <td>0.579459</td>\n",
       "      <td>0.809425</td>\n",
       "      <td>0.445583</td>\n",
       "    </tr>\n",
       "    <tr>\n",
       "      <th>3</th>\n",
       "      <td>0.288913</td>\n",
       "      <td>0.150805</td>\n",
       "      <td>0.452265</td>\n",
       "      <td>0.479877</td>\n",
       "      <td>0.830270</td>\n",
       "      <td>0.574162</td>\n",
       "    </tr>\n",
       "  </tbody>\n",
       "</table>\n",
       "</div>"
      ],
      "text/plain": [
       "   col_col-aa  col_col-bb  col_col-cc  col_col-dd  col_col-ee  col_col-ff\n",
       "0    0.126849    0.581680    0.160808    0.154257    0.004385    0.546506\n",
       "1    0.550405    0.036386    0.522227    0.441801    0.192469    0.967991\n",
       "2    0.367623    0.018386    0.139292    0.579459    0.809425    0.445583\n",
       "3    0.288913    0.150805    0.452265    0.479877    0.830270    0.574162"
      ]
     },
     "execution_count": 14,
     "metadata": {},
     "output_type": "execute_result"
    }
   ],
   "source": [
    "df.add_prefix('col_')"
   ]
  }
 ],
 "metadata": {
  "kernelspec": {
   "display_name": "Python 3",
   "language": "python",
   "name": "python3"
  },
  "language_info": {
   "codemirror_mode": {
    "name": "ipython",
    "version": 3
   },
   "file_extension": ".py",
   "mimetype": "text/x-python",
   "name": "python",
   "nbconvert_exporter": "python",
   "pygments_lexer": "ipython3",
   "version": "3.13.0"
  }
 },
 "nbformat": 4,
 "nbformat_minor": 2
}
