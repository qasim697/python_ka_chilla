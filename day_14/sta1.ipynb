{
 "cells": [
  {
   "cell_type": "markdown",
   "metadata": {},
   "source": [
    "-  statictics\n",
    "-  AApplication of statistics\n",
    "-  Descriptive statistics\n",
    "-  Inferential statistics\n",
    "  "
   ]
  },
  {
   "cell_type": "markdown",
   "metadata": {},
   "source": [
    "![stat](stat1.png)"
   ]
  },
  {
   "cell_type": "markdown",
   "metadata": {},
   "source": [
    "\n",
    "### Statistics\n",
    "Statistics is the science of collecting, analyzing, interpreting, presenting, and organizing data. It provides tools for making decisions based on data and helps in understanding and quantifying variability, uncertainty, and patterns in data.Two fundamental ideas in the field of statistics are: \n",
    "- uncertainty\n",
    "- variation\n",
    "\n",
    "### Descriptive Statistics\n",
    "Descriptive statistics involves summarizing and organizing data so that it can be easily understood. This includes measures such as mean, median, mode, standard deviation, and graphical representations like histograms and box plots.\n",
    "\n",
    "### Inferential Statistics\n",
    "Inferential statistics involves making predictions or inferences about a population based on a sample of data. It includes techniques such as hypothesis testing, confidence intervals, and regression analysis to draw conclusions and make decisions.\n"
   ]
  },
  {
   "cell_type": "markdown",
   "metadata": {},
   "source": [
    "![STAT2](stat2.png)"
   ]
  },
  {
   "cell_type": "markdown",
   "metadata": {},
   "source": [
    "![stat3](stat3.png)"
   ]
  },
  {
   "cell_type": "markdown",
   "metadata": {},
   "source": [
    "![stat4](stat4.jpg)"
   ]
  },
  {
   "cell_type": "markdown",
   "metadata": {},
   "source": [
    "![st5](stat5.png)"
   ]
  },
  {
   "cell_type": "markdown",
   "metadata": {},
   "source": [
    "### Examples of Descriptive Statistics\n",
    "\n",
    "1. **Mean**: The average value of a dataset.\n",
    "2. **Median**: The middle value in a dataset when it is ordered.\n",
    "3. **Mode**: The most frequently occurring value in a dataset.\n",
    "4. **Range**: The difference between the maximum and minimum values in a dataset.\n",
    "5. **Variance**: A measure of how much values in a dataset differ from the mean.\n",
    "6. **Standard Deviation**: The square root of the variance, indicating the spread of a dataset.\n",
    "7. **Quartiles**: Values that divide a dataset into four equal parts.\n",
    "8. **Percentiles**: Values below which a certain percentage of data falls.\n",
    "9. **Frequency Distribution**: A summary of how often different values occur in a dataset.\n",
    "10. **Histogram**: A graphical representation of the frequency distribution of a dataset.\n",
    "\n",
    "### Examples of Inferential Statistics\n",
    "\n",
    "1. **Hypothesis Testing**: A method for testing a hypothesis about a parameter in a population using data measured in a sample.\n",
    "2. **Confidence Intervals**: A range of values used to estimate the true value of a population parameter.\n",
    "3. **t-Test**: A statistical test used to compare the means of two groups.\n",
    "4. **ANOVA (Analysis of Variance)**: A statistical method used to compare the means of three or more groups.\n",
    "5. **Chi-Square Test**: A test used to determine if there is a significant association between two categorical variables.\n",
    "6. **Regression Analysis**: A statistical process for estimating the relationships among variables.\n",
    "7. **Correlation Coefficient**: A measure of the strength and direction of the relationship between two variables.\n",
    "8. **Z-Test**: A statistical test used to determine if there is a significant difference between sample and population means.\n",
    "9. **Mann-Whitney U Test**: A non-parametric test for assessing whether two independent samples come from the same distribution.\n",
    "10. **F-Test**: A test used to compare two variances to ascertain if they come from populations with equal variances."
   ]
  },
  {
   "cell_type": "markdown",
   "metadata": {},
   "source": [
    "# Real-World Examples of Descriptive and Inferential Statistics\n",
    "\n",
    "## **Descriptive Statistics Examples**\n",
    "1. **Average Height of Students in a Class**: Calculating the mean height of students in a specific classroom.\n",
    "2. **Company Sales Data**: Summarizing monthly sales revenue with measures like total sales, mean, median, and mode.\n",
    "3. **Population Age Distribution**: Representing the age distribution in a city using histograms or frequency tables.\n",
    "4. **Sports Performance**: Computing the batting average of a cricket player over a season.\n",
    "5. **Employee Salaries in an Organization**: Calculating the median and standard deviation of salaries.\n",
    "6. **COVID-19 Cases**: Summarizing the number of cases by country or region using pie charts and percentages.\n",
    "7. **Car Fuel Efficiency**: Displaying the average miles per gallon (mpg) of vehicles in a particular model year.\n",
    "8. **Survey Results**: Reporting the percentage of people who prefer one product over another in a sample.\n",
    "9. **Traffic Data Analysis**: Computing the average number of vehicles crossing a bridge per hour.\n",
    "10. **School Grades**: Summarizing the mean, median, and range of student scores in a class test.\n",
    "\n",
    "## **Inferential Statistics Examples**\n",
    "1. **Election Polling**: Predicting the outcome of an election based on a sample of voter preferences.\n",
    "2. **Medical Trials**: Determining the effectiveness of a new drug by analyzing results from a sample of patients.\n",
    "3. **Climate Studies**: Inferring long-term global temperature trends from a sample of historical data.\n",
    "4. **Product Quality Control**: Estimating the defect rate in a batch of products by inspecting a random sample.\n",
    "5. **Market Research**: Predicting consumer behavior across a country based on data from a sample survey.\n",
    "6. **Education Research**: Inferring the impact of a teaching method by analyzing test scores from a sample group of students.\n",
    "7. **Customer Satisfaction**: Using a sample survey to infer overall satisfaction levels among all customers.\n",
    "8. **Economic Forecasting**: Estimating the national unemployment rate based on a survey of a small subset of the population.\n",
    "9. **Agricultural Studies**: Testing the impact of a new fertilizer on crop yield using a controlled sample of farms.\n",
    "10. **Health Studies**: Estimating the prevalence of a disease in a population based on a sample study.\n",
    "\n",
    "## **Distinction**\n",
    "- **Descriptive Statistics**: Focuses on summarizing and organizing data from a specific dataset.\n",
    "- **Inferential Statistics**: Uses sample data to make predictions, inferences, or decisions about a larger population.\n"
   ]
  },
  {
   "cell_type": "markdown",
   "metadata": {},
   "source": [
    "![st6](stat7.png)"
   ]
  }
 ],
 "metadata": {
  "language_info": {
   "name": "python"
  }
 },
 "nbformat": 4,
 "nbformat_minor": 2
}
