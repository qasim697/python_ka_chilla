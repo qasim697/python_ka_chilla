{
 "cells": [
  {
   "cell_type": "markdown",
   "metadata": {},
   "source": [
    "![stat8](stat8.png)"
   ]
  },
  {
   "cell_type": "markdown",
   "metadata": {},
   "source": [
    "![st8](stat9.png)"
   ]
  },
  {
   "cell_type": "markdown",
   "metadata": {},
   "source": [
    "![sta10](stat10.png)"
   ]
  },
  {
   "cell_type": "markdown",
   "metadata": {},
   "source": [
    "![stat11](stat11.png)"
   ]
  },
  {
   "cell_type": "markdown",
   "metadata": {},
   "source": [
    "\n",
    "## Types of Probability vs Non-Probability Sampling\n",
    "\n",
    "### Probability Sampling\n",
    "Probability sampling techniques are those in which every member of the population has a known, non-zero chance of being selected. These techniques are generally more reliable and allow for the calculation of sampling errors. Common types include:\n",
    "\n",
    "1. **Simple Random Sampling**: Each member of the population has an equal chance of being selected.\n",
    "2. **Systematic Sampling**: Every nth member of the population is selected.\n",
    "3. **Stratified Sampling**: The population is divided into strata, and random samples are taken from each stratum.\n",
    "4. **Cluster Sampling**: The population is divided into clusters, and a random sample of clusters is selected, with all members of the chosen clusters being sampled.\n",
    "\n",
    "### Non-Probability Sampling\n",
    "Non-probability sampling techniques do not provide every individual in the population with a known or equal chance of being selected. These methods are often easier and cheaper to implement but can introduce bias. Common types include:\n",
    "\n",
    "1. **Convenience Sampling**: Samples are taken from a group that is conveniently accessible to the researcher.\n",
    "2. **Quota Sampling**: The population is segmented into mutually exclusive sub-groups, and judgment is used to select subjects from each segment based on a specified proportion.\n",
    "3. **Snowball Sampling**: Existing study subjects recruit future subjects from among their acquaintances.\n",
    "4. **Judgmental or Purposive Sampling**: The researcher uses their judgment to select subjects that are considered to be representative of the population.\n",
    "\n",
    "Each of these sampling methods has its own strengths and weaknesses, and the choice of method depends on the research objectives, population characteristics, and available resources.\n"
   ]
  }
 ],
 "metadata": {
  "language_info": {
   "name": "python"
  }
 },
 "nbformat": 4,
 "nbformat_minor": 2
}
