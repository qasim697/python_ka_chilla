{
 "cells": [
  {
   "cell_type": "markdown",
   "metadata": {},
   "source": []
  },
  {
   "cell_type": "code",
   "execution_count": 1,
   "metadata": {},
   "outputs": [],
   "source": [
    "import pandas as pd"
   ]
  },
  {
   "cell_type": "markdown",
   "metadata": {},
   "source": [
    "### Types of Scales of Measurement\n",
    "\n",
    "In statistics, there are four levels of measurement that describe the nature of the information within the values assigned to variables. These are:\n",
    "\n",
    "1. **Nominal Scale**\n",
    "      - **Definition**: The nominal scale is used for labeling variables without any quantitative value. It is the simplest form of measurement.\n",
    "      - **Examples**: Gender (Male, Female), Blood Type (A, B, AB, O), Nationality (American, Canadian, Mexican).\n",
    "\n",
    "2. **Ordinal Scale**\n",
    "      - **Definition**: The ordinal scale depicts the order of variables but does not establish the degree of variation between them.\n",
    "      - **Examples**: Education Level (High School, Bachelor's, Master's, PhD), Customer Satisfaction (Very Unsatisfied, Unsatisfied, Neutral, Satisfied, Very Satisfied).\n",
    "\n",
    "3. **Interval Scale**\n",
    "      - **Definition**: The interval scale not only shows the order but also the exact differences between the values. However, it does not have a true zero point.\n",
    "      - **Examples**: Temperature in Celsius or Fahrenheit, IQ Scores, SAT Scores.\n",
    "\n",
    "4. **Ratio Scale**\n",
    "      - **Definition**: The ratio scale has all the properties of an interval scale, and it also has a clear definition of zero. This allows for a wide range of both descriptive and inferential statistics to be applied.\n",
    "      - **Examples**: Height, Weight, Age, Income.\n",
    "\n",
    "Understanding these scales is crucial for selecting the appropriate statistical analysis and for interpreting data correctly."
   ]
  },
  {
   "cell_type": "markdown",
   "metadata": {},
   "source": [
    "![stat31](stat3_1.png)"
   ]
  },
  {
   "cell_type": "markdown",
   "metadata": {},
   "source": [
    "In Statistics, there are two types of variables. They are\n",
    "\n",
    "- **Categorical Variable**\n",
    "- **Numerical Variable**\n",
    "- 1. **Categorical Variable**\n",
    "The Categorical variable is also known as a Qualitative variable. It represents the characteristics of the data object.\n",
    "Sometimes categorical variables take numerical values, but having numerical values doesn’t mean it has any mathematical meaning.\n",
    "There are two types of Categorical variables. They are\n",
    "- **(i) Nominal Variables**\n",
    "- **(ii)Ordinal Variables**\n"
   ]
  },
  {
   "cell_type": "markdown",
   "metadata": {},
   "source": [
    "![stat2](stat3_2.png)"
   ]
  },
  {
   "cell_type": "markdown",
   "metadata": {},
   "source": [
    "![stat3](stat3_3.png)"
   ]
  },
  {
   "cell_type": "markdown",
   "metadata": {},
   "source": [
    "![stat3](stat3_4.png)"
   ]
  },
  {
   "cell_type": "markdown",
   "metadata": {},
   "source": [
    "![stat5](stat3_5.png)"
   ]
  },
  {
   "cell_type": "markdown",
   "metadata": {},
   "source": [
    "### Dependent vs Independent Variables\n",
    "\n",
    "In statistical modeling and data analysis, variables can be classified into two main types: dependent and independent variables.\n",
    "\n",
    "1. **Dependent Variable**\n",
    "      - **Definition**: The dependent variable, also known as the response variable, is the variable that you are trying to predict or explain. It is dependent on the independent variables.\n",
    "      - **Examples**: In a study examining the effect of study time on test scores, the test score is the dependent variable.\n",
    "\n",
    "2. **Independent Variable**\n",
    "      - **Definition**: The independent variable, also known as the predictor or explanatory variable, is the variable that is manipulated or categorized to observe its effect on the dependent variable.\n",
    "      - **Examples**: In the same study, the amount of study time is the independent variable.\n",
    "\n",
    "### Time Series vs Cross-Sectional Data\n",
    "\n",
    "Understanding the type of data you are working with is crucial for selecting the appropriate analytical methods.\n",
    "\n",
    "1. **Time Series Data**\n",
    "      - **Definition**: Time series data is a sequence of data points collected or recorded at specific time intervals. It is used to analyze trends, cycles, and seasonal variations over time.\n",
    "      - **Examples**: Daily stock prices, monthly sales figures, annual GDP growth rates.\n",
    "\n",
    "2. **Cross-Sectional Data**\n",
    "      - **Definition**: Cross-sectional data is collected at a single point in time or over a short period. It provides a snapshot of the variables of interest at that specific time.\n",
    "      - **Examples**: A survey of household incomes in a particular year, a study of the prevalence of a disease in different regions at a given time."
   ]
  }
 ],
 "metadata": {
  "kernelspec": {
   "display_name": "Python 3",
   "language": "python",
   "name": "python3"
  },
  "language_info": {
   "codemirror_mode": {
    "name": "ipython",
    "version": 3
   },
   "file_extension": ".py",
   "mimetype": "text/x-python",
   "name": "python",
   "nbconvert_exporter": "python",
   "pygments_lexer": "ipython3",
   "version": "3.13.0"
  }
 },
 "nbformat": 4,
 "nbformat_minor": 2
}
