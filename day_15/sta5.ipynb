{
 "cells": [
  {
   "cell_type": "markdown",
   "metadata": {},
   "source": [
    "# inferential statistics"
   ]
  },
  {
   "cell_type": "markdown",
   "metadata": {},
   "source": [
    "## Inferential Statistics\n",
    "\n",
    "Inferential statistics is a branch of statistics that allows us to make inferences and draw conclusions about a population based on a sample of data taken from that population. It involves using probability theory to estimate population parameters, test hypotheses, and make predictions.\n",
    "\n",
    "### Stages of Inferential Statistics\n",
    "1. **Data Collection**: Gathering data from a sample that represents the population.\n",
    "2. **Data Analysis**: Summarizing and exploring the data using descriptive statistics.\n",
    "3. **Estimation**: Estimating population parameters (e.g., mean, variance) based on sample statistics.\n",
    "4. **Hypothesis Testing**: Testing hypotheses about population parameters using sample data.\n",
    "5. **Prediction**: Making predictions about future observations based on the sample data.\n",
    "\n",
    "### Types of Inferential Statistics\n",
    "1. **Estimation**: Point estimation and interval estimation (confidence intervals).\n",
    "2. **Hypothesis Testing**: Null hypothesis significance testing (NHST), p-values, and confidence levels.\n",
    "3. **Regression Analysis**: Modeling relationships between variables.\n",
    "4. **ANOVA (Analysis of Variance)**: Comparing means across multiple groups.\n",
    "\n",
    "### Components of Inferential Statistics\n",
    "1. **Population**: The entire group of individuals or observations of interest.\n",
    "2. **Sample**: A subset of the population used to make inferences about the population.\n",
    "3. **Parameter**: A numerical characteristic of a population (e.g., population mean).\n",
    "4. **Statistic**: A numerical characteristic of a sample (e.g., sample mean).\n",
    "5. **Sampling Distribution**: The probability distribution of a given statistic based on a random sample.\n",
    "6. **Standard Error**: The standard deviation of the sampling distribution of a statistic.\n",
    "7. **Confidence Interval**: A range of values within which the population parameter is expected to lie with a certain level of confidence.\n",
    "8. **P-value**: The probability of obtaining a test statistic at least as extreme as the one observed, assuming the null hypothesis is true.\n",
    "9. **Significance Level (α)**: The threshold for rejecting the null hypothesis, typically set at 0.05 or 0.01."
   ]
  },
  {
   "cell_type": "markdown",
   "metadata": {},
   "source": [
    "### Hypothesis Testing\n",
    "\n",
    "Hypothesis testing is a statistical method used to make decisions about the population based on sample data. It involves formulating two competing hypotheses and using sample data to determine which hypothesis is more likely to be true.\n",
    "\n",
    "#### Key Concepts\n",
    "\n",
    "1. **Null Hypothesis (H₀)**: The hypothesis that there is no effect or no difference. It is the default assumption that we seek to test against.\n",
    "2. **Alternative Hypothesis (H₁ or Ha)**: The hypothesis that there is an effect or a difference. It is what we want to provide evidence for.\n",
    "3. **Test Statistic**: A standardized value calculated from sample data, used to determine whether to reject the null hypothesis.\n",
    "4. **P-value**: The probability of obtaining a test statistic at least as extreme as the one observed, assuming the null hypothesis is true.\n",
    "5. **Significance Level (α)**: The threshold for rejecting the null hypothesis, typically set at 0.05 or 0.01.\n",
    "6. **Type I Error**: Rejecting the null hypothesis when it is true (false positive).\n",
    "7. **Type II Error**: Failing to reject the null hypothesis when it is false (false negative).\n",
    "\n",
    "#### Steps in Hypothesis Testing\n",
    "\n",
    "1. **State the Hypotheses**: Formulate the null hypothesis (H₀) and the alternative hypothesis (H₁).\n",
    "2. **Choose the Significance Level (α)**: Decide the threshold for rejecting the null hypothesis.\n",
    "3. **Collect Data**: Gather sample data relevant to the hypotheses.\n",
    "4. **Calculate the Test Statistic**: Compute the test statistic based on the sample data.\n",
    "5. **Determine the P-value**: Find the probability of obtaining the observed test statistic under the null hypothesis.\n",
    "6. **Make a Decision**: Compare the p-value to the significance level (α) and decide whether to reject or fail to reject the null hypothesis.\n",
    "\n",
    "#### Example\n",
    "\n",
    "Suppose we want to test whether a new drug is effective in lowering blood pressure. We can set up the hypotheses as follows:\n",
    "\n",
    "- Null Hypothesis (H₀): The new drug has no effect on blood pressure.\n",
    "- Alternative Hypothesis (H₁): The new drug lowers blood pressure.\n",
    "\n",
    "We collect sample data from patients, calculate the test statistic, determine the p-value, and compare it to the significance level to make a decision.\n",
    "\n",
    "If the p-value is less than the significance level (e.g., 0.05), we reject the null hypothesis and conclude that the new drug is effective in lowering blood pressure. If the p-value is greater than the significance level, we fail to reject the null hypothesis and conclude that there is not enough evidence to support the effectiveness of the new drug."
   ]
  }
 ],
 "metadata": {
  "kernelspec": {
   "display_name": "Python 3",
   "language": "python",
   "name": "python3"
  },
  "language_info": {
   "codemirror_mode": {
    "name": "ipython",
    "version": 3
   },
   "file_extension": ".py",
   "mimetype": "text/x-python",
   "name": "python",
   "nbconvert_exporter": "python",
   "pygments_lexer": "ipython3",
   "version": "3.13.0"
  }
 },
 "nbformat": 4,
 "nbformat_minor": 2
}
