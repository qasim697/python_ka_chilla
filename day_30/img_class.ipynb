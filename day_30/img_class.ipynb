{
 "cells": [
  {
   "cell_type": "code",
   "execution_count": 1,
   "metadata": {},
   "outputs": [
    {
     "name": "stdout",
     "output_type": "stream",
     "text": [
      "2.18.0\n"
     ]
    }
   ],
   "source": [
    "import tensorflow as tf\n",
    "print(tf.__version__)"
   ]
  },
  {
   "cell_type": "code",
   "execution_count": 2,
   "metadata": {},
   "outputs": [],
   "source": [
    "fmnist = tf.keras.datasets.fashion_mnist"
   ]
  },
  {
   "cell_type": "code",
   "execution_count": 5,
   "metadata": {},
   "outputs": [
    {
     "name": "stdout",
     "output_type": "stream",
     "text": [
      "Downloading data from https://storage.googleapis.com/tensorflow/tf-keras-datasets/train-labels-idx1-ubyte.gz\n",
      "\u001b[1m29515/29515\u001b[0m \u001b[32m━━━━━━━━━━━━━━━━━━━━\u001b[0m\u001b[37m\u001b[0m \u001b[1m0s\u001b[0m 2us/step\n",
      "Downloading data from https://storage.googleapis.com/tensorflow/tf-keras-datasets/train-images-idx3-ubyte.gz\n",
      "\u001b[1m26421880/26421880\u001b[0m \u001b[32m━━━━━━━━━━━━━━━━━━━━\u001b[0m\u001b[37m\u001b[0m \u001b[1m95s\u001b[0m 4us/step\n",
      "Downloading data from https://storage.googleapis.com/tensorflow/tf-keras-datasets/t10k-labels-idx1-ubyte.gz\n",
      "\u001b[1m5148/5148\u001b[0m \u001b[32m━━━━━━━━━━━━━━━━━━━━\u001b[0m\u001b[37m\u001b[0m \u001b[1m0s\u001b[0m 0us/step\n",
      "Downloading data from https://storage.googleapis.com/tensorflow/tf-keras-datasets/t10k-images-idx3-ubyte.gz\n",
      "\u001b[1m4422102/4422102\u001b[0m \u001b[32m━━━━━━━━━━━━━━━━━━━━\u001b[0m\u001b[37m\u001b[0m \u001b[1m12s\u001b[0m 3us/step\n"
     ]
    }
   ],
   "source": [
    "#load training and testing data\n",
    "(train_images, train_labels), (test_images, test_labels) = fmnist.load_data()"
   ]
  },
  {
   "cell_type": "code",
   "execution_count": 10,
   "metadata": {},
   "outputs": [
    {
     "data": {
      "text/plain": [
       "<matplotlib.image.AxesImage at 0x202a239d3d0>"
      ]
     },
     "execution_count": 10,
     "metadata": {},
     "output_type": "execute_result"
    },
    {
     "data": {
      "image/png": "[encoded data removed]",
      "text/plain": [
       "<Figure size 640x480 with 1 Axes>"
      ]
     },
     "metadata": {},
     "output_type": "display_data"
    }
   ],
   "source": [
    "import numpy as np\n",
    "import matplotlib.pyplot as plt\n",
    "index =560\n",
    "plt.imshow(train_images[index], cmap='gray')"
   ]
  },
  {
   "cell_type": "code",
   "execution_count": 11,
   "metadata": {},
   "outputs": [
    {
     "name": "stdout",
     "output_type": "stream",
     "text": [
      "[[  0   0   0   0   0   0   0   0   0   0  19 164  99  92  86 132 132   7   0   0   0   0   0   0   1   0   0   0]\n",
      " [  0   0   0   0   0   0   2   0   0  11  64 159 156 159 129  55 116 125  37   0   0   0   1   0   1   0   0   0]\n",
      " [  0   0   0   0   0   0   0   1  79 123   8 119 155 119 147 177 107 129 165  92  11   0   0   0   0   0   0   0]\n",
      " [  0   0   0   0   2   0  56 116  22 116 104  77 171 244 255 159  82 147  83  79  62 138   4   0   4   0   0   0]\n",
      " [  0   1   1   1   0  22 140 108  68 104 113 105  61 171 104  65 140 122  90 107 113 114  55   0   0   0   0   0]\n",
      " [  0   2   1   2   0  83  95 108 117 104  92 122 111 117 131  80 152  87 108  86 120 134  95   0   0   0   0   0]\n",
      " [  0   0   0   0   2 101  19 110 114 114  96 104 113  89 120 108  85  96 101  95  90 156 111  23   0   1   0   0]\n",
      " [  0   1   0   0  25 123 126 138 113  41  96 111 101  83 147 101  86 104 110  32  41 159 113  83   0   0   0   0]\n",
      " [  0   0   1   0  77  98 152 143  46  23 119 105 105  95 117  90  87  95 113  53  87  80  49 128   0   0   0   0]\n",
      " [  0   0   0   0 122  95 170 152 101  92 113 111 102  85 135  83  99  96  77  89  96 172 117 123  31   0   0   0]\n",
      " [  0   0   0  17 116  29 195 146  87  95 119 122  26   1 125  76 111  74  41  87 119 201 144 107  79   0   0   0]\n",
      " [  0   1   0  61  98   0 225 164  73 117 113 104  80  59 134 101 110 107 120 104 101 235 150  95 119   0   0   0]\n",
      " [  0   0   0 101 110  64 243 162   0  68 128  98 114 107 117  95 116 105 113  82   7 219 155  85 126  43   0   0]\n",
      " [  0   0   0 135 101 119 237 119   1  82 131 104  96  99 125 105 122   8  56 111   5 211 168  11  86 101   0   0]\n",
      " [  0   0  19 141  89 122 198  87  96 108 120 101   5  49 135   1  68  67  79 117  41 199 178  68  70 137   2   0]\n",
      " [  0   0  50  31  62 153 165  44  87 107 122 110  58  86 140  67  68 116  95  90  59 181 170 113 116 137  35   0]\n",
      " [  0   0 134  87 116 140 198  79  96  99 120 102 102 108 113 123  96  82 101  95  58 178 162  98  90 114 170   0]\n",
      " [  0  44 165 128 195 122 205  90  58   2 117 102  92 107 120 110  90  99 111  31   0 189 164  59  20 111 144  10]\n",
      " [  0 153  92  31 120 137  99  93  68  53 122 108 117 105 126 120 101  99 111  74  37 147 164 132  89  31 119  83]\n",
      " [  0  43  76  87  61 161  82  96  99 126 107 119  64   4 129  37  52 108  92  92 114  70 134 114  76  80  89  28]\n",
      " [  0   0   2  70 198 167  37 123  93 122 113 120  82  44 141  55  65 104  96 101 108  93  62 172 108  58   0   0]\n",
      " [  0   1   0   0  65   0  41 135 101  74 113 113 111 116 123 132 107  96  93  41  95 116   0  44  13   0   0   0]\n",
      " [  0   0   0   0   0   0  65 135  49   1 110 125 117  96 135 102 116 101  86   1  85 122   0   0   0   0   1   0]\n",
      " [  0   0   0   0   2   0  61 131  95 101 119 137  31  37 138   8  83 110  98  89 119 113   0   0   1   0   0   0]\n",
      " [  0   0   0   0   0   0  65 125  89  99 110 129  77  82 146  67 107 104  95 101  98 116   0   0   1   0   0   0]\n",
      " [  0   0   0   0   1   0  64 110 101 116 117 137 107 104 131 125 117 104 107  89 117 107   0   0   1   1   0   0]\n",
      " [  0   0   0   0   1   0  62 117  99  32  50 152 110 129 155 125 116 107  80   7  98 122   0   0   0   0   0   0]\n",
      " [  0   0   0   0   0   0  50 113 119  53  98 125  67  64  64  55  93 120 105  32  98  98   0   0   0   0   0   0]]\n",
      "6\n"
     ]
    },
    {
     "data": {
      "text/plain": [
       "<matplotlib.image.AxesImage at 0x202a239ef90>"
      ]
     },
     "execution_count": 11,
     "metadata": {},
     "output_type": "execute_result"
    },
    {
     "data": {
      "image/png": "[encoded data removed]",
      "text/plain": [
       "<Figure size 640x480 with 1 Axes>"
      ]
     },
     "metadata": {},
     "output_type": "display_data"
    }
   ],
   "source": [
    "np.set_printoptions(linewidth=320)\n",
    "print(train_images[index])\n",
    "print(train_labels[index])\n",
    "plt.imshow(train_images[index])"
   ]
  },
  {
   "cell_type": "code",
   "execution_count": 12,
   "metadata": {},
   "outputs": [],
   "source": [
    "#normalize the pixel values\n",
    "train_images = train_images / 255.0\n",
    "test_images = test_images / 255.0"
   ]
  },
  {
   "cell_type": "code",
   "execution_count": 13,
   "metadata": {},
   "outputs": [],
   "source": [
    "#build classification model\n",
    "model=tf.keras.models.Sequential([\n",
    "      tf.keras.layers.Flatten(),\n",
    "      tf.keras.layers.Dense(128, activation=tf.nn.relu),\n",
    "      tf.keras.layers.Dense(10, activation=tf.nn.softmax)\n",
    "      ])\n"
   ]
  },
  {
   "cell_type": "code",
   "execution_count": 14,
   "metadata": {},
   "outputs": [
    {
     "name": "stdout",
     "output_type": "stream",
     "text": [
      "input to sonftmax: [[1. 4. 2.]]\n",
      "output of softmax: [[0.04201007 0.8437947  0.11419519]]\n",
      "sum of softmax output: 0.9999999403953552\n",
      "index of maximum value: [0 0 0]\n"
     ]
    }
   ],
   "source": [
    "#Declare sample input and convert it to a tensor\n",
    "inputs = np.array([[1.0,4.0,2.0]])\n",
    "inputs= tf.convert_to_tensor(inputs, dtype=tf.float32)\n",
    "print(f'input to sonftmax: {inputs.numpy()}')\n",
    "\n",
    "#Feed the input to the softmax layer\n",
    "outputs = tf.keras.activations.softmax(inputs)\n",
    "print(f'output of softmax: {outputs.numpy()}')\n",
    "\n",
    "# Get the sum of of all  values after softmax\n",
    "sum_outputs = tf.reduce_sum(outputs)\n",
    "print(f'sum of softmax output: {sum_outputs}')\n",
    "\n",
    "#Get the index of the maximum value\n",
    "index_of_max = tf.argmax(outputs)\n",
    "print(f'index of maximum value: {index_of_max}')\n"
   ]
  },
  {
   "cell_type": "code",
   "execution_count": 15,
   "metadata": {},
   "outputs": [
    {
     "name": "stdout",
     "output_type": "stream",
     "text": [
      "Epoch 1/5\n",
      "\u001b[1m1875/1875\u001b[0m \u001b[32m━━━━━━━━━━━━━━━━━━━━\u001b[0m\u001b[37m\u001b[0m \u001b[1m10s\u001b[0m 4ms/step - accuracy: 0.7833 - loss: 0.6254\n",
      "Epoch 2/5\n",
      "\u001b[1m1875/1875\u001b[0m \u001b[32m━━━━━━━━━━━━━━━━━━━━\u001b[0m\u001b[37m\u001b[0m \u001b[1m8s\u001b[0m 4ms/step - accuracy: 0.8597 - loss: 0.3888\n",
      "Epoch 3/5\n",
      "\u001b[1m1875/1875\u001b[0m \u001b[32m━━━━━━━━━━━━━━━━━━━━\u001b[0m\u001b[37m\u001b[0m \u001b[1m8s\u001b[0m 4ms/step - accuracy: 0.8738 - loss: 0.3454\n",
      "Epoch 4/5\n",
      "\u001b[1m1875/1875\u001b[0m \u001b[32m━━━━━━━━━━━━━━━━━━━━\u001b[0m\u001b[37m\u001b[0m \u001b[1m8s\u001b[0m 4ms/step - accuracy: 0.8840 - loss: 0.3145\n",
      "Epoch 5/5\n",
      "\u001b[1m1875/1875\u001b[0m \u001b[32m━━━━━━━━━━━━━━━━━━━━\u001b[0m\u001b[37m\u001b[0m \u001b[1m7s\u001b[0m 4ms/step - accuracy: 0.8913 - loss: 0.2947\n"
     ]
    },
    {
     "data": {
      "text/plain": [
       "<keras.src.callbacks.history.History at 0x202926eab10>"
      ]
     },
     "execution_count": 15,
     "metadata": {},
     "output_type": "execute_result"
    }
   ],
   "source": [
    "#compile the model\n",
    "model.compile(optimizer='adam', loss='sparse_categorical_crossentropy', metrics=['accuracy'])\n",
    "model.fit(train_images, train_labels, epochs=5)\n"
   ]
  },
  {
   "cell_type": "code",
   "execution_count": 16,
   "metadata": {},
   "outputs": [
    {
     "name": "stdout",
     "output_type": "stream",
     "text": [
      "\u001b[1m313/313\u001b[0m \u001b[32m━━━━━━━━━━━━━━━━━━━━\u001b[0m\u001b[37m\u001b[0m \u001b[1m1s\u001b[0m 3ms/step - accuracy: 0.8634 - loss: 0.3890\n",
      "Test accuracy: 0.8644000291824341\n"
     ]
    }
   ],
   "source": [
    "# evaluate the model\n",
    "test_loss, test_acc = model.evaluate(test_images, test_labels)\n",
    "print(f'Test accuracy: {test_acc}')\n"
   ]
  }
 ],
 "metadata": {
  "kernelspec": {
   "display_name": "tf_env",
   "language": "python",
   "name": "python3"
  },
  "language_info": {
   "codemirror_mode": {
    "name": "ipython",
    "version": 3
   },
   "file_extension": ".py",
   "mimetype": "text/x-python",
   "name": "python",
   "nbconvert_exporter": "python",
   "pygments_lexer": "ipython3",
   "version": "3.12.8"
  }
 },
 "nbformat": 4,
 "nbformat_minor": 2
}
