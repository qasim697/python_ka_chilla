{
 "cells": [
  {
   "cell_type": "markdown",
   "metadata": {},
   "source": [
    "## what is data? \n",
    " * data is a collection of information, usually presented in a structured format\n",
    " * data can be in the form of numbers, text, images, audio, or video\n",
    " * data can be used to inform decisions, answer questions, or solve problems\n",
    " * data can be used to train machine learning models, which can then make predictions or classify data\n",
    " * data can be used to create visualizations, such as charts and graphs, to help understand complex\n",
    " * data can be used to create models, such as statistical models, to help understand complex phenomena\n"
   ]
  },
  {
   "cell_type": "markdown",
   "metadata": {},
   "source": [
    "![EDA](eda.jpg)"
   ]
  },
  {
   "cell_type": "markdown",
   "metadata": {},
   "source": []
  },
  {
   "cell_type": "markdown",
   "metadata": {},
   "source": [
    "## TYPES OF  DATA\n",
    "## 1. Categorical Data\n",
    "## 2. Numerical Data\n",
    "## 3. Time Series Data\n",
    "## 4. Text Data\n",
    "## 5. Image Data    \n",
    "## 6. Audio Data\n",
    "## 7. Video Data\n",
    "## 8. Graph Data\n",
    "## 9. Spatial Data\n",
    "## 10. Network Data\n",
    "## Step 3: Identify the type of data we are working with\n",
    "We are working with numerical data.\n",
    "## Step 4: Choose the appropriate data structure\n",
    "We will use a pandas DataFrame to store our data.\n",
    "## Step 5: Import necessary libraries\n",
    "We will import pandas and numpy libraries.\n",
    "## Step 6: Create a sample dataset\n",
    "We will create a sample dataset with 5 rows and 3 columns.\n",
    "\n"
   ]
  },
  {
   "cell_type": "markdown",
   "metadata": {},
   "source": [
    "FREE DATA WEBSITES      \n",
    "Free data websites are a great resource for finding free data. Here are some popular ones:\n",
    "1.  **Kaggle**: Kaggle is a popular platform for data science competitions and hosting\n",
    "2. **UCI Machine Learning Repository**: The UCI Machine Learning Repository is a collection of\n",
    "3. GOOGLE DATASET SEARCH: Google Dataset Search is a search engine for datasets.\n",
    "4. GITHUB DATASETS: GitHub is a web-based platform for version control and collaboration\n",
    "5. faostats.com : FAOSTAT is a multilingual database providing free access to food and agriculture data\n",
    "6. data scrap wikipedia, twitter , instagram, facebook, youtube, etc.\n",
    "7. every cuntry  has stat website\n",
    "8. crime detection DNA database\n",
    "9. Business analytics stock exchange data\n",
    "10. university database\n",
    "11. research papers\n",
    "12. \n"
   ]
  }
 ],
 "metadata": {
  "language_info": {
   "name": "python"
  }
 },
 "nbformat": 4,
 "nbformat_minor": 2
}
